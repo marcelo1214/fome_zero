{
 "cells": [
  {
   "cell_type": "markdown",
   "id": "72bb19f9-97ce-48a0-a06d-183ad654bbbe",
   "metadata": {
    "tags": []
   },
   "source": [
    "# Imports and data reading"
   ]
  },
  {
   "cell_type": "code",
   "execution_count": 65,
   "id": "a70a1588-42f3-46c7-a89b-814f09bb2647",
   "metadata": {
    "tags": []
   },
   "outputs": [],
   "source": [
    "import pandas as pd \n",
    "import os \n",
    "import inflection\n",
    "import folium\n",
    "from streamlit_folium import folium_static"
   ]
  },
  {
   "cell_type": "code",
   "execution_count": 2,
   "id": "35c0157d-25b5-40dc-8b9d-566b56bed8e6",
   "metadata": {},
   "outputs": [
    {
     "data": {
      "text/plain": [
       "'C:\\\\Users\\\\Marcelo Brandao\\\\Documents\\\\datasets\\\\FTC\\\\pa_ftc'"
      ]
     },
     "execution_count": 2,
     "metadata": {},
     "output_type": "execute_result"
    }
   ],
   "source": [
    "os.getcwd()"
   ]
  },
  {
   "cell_type": "code",
   "execution_count": 3,
   "id": "e5ec0e90-605c-4b6d-984d-c1fc879ac779",
   "metadata": {
    "tags": []
   },
   "outputs": [],
   "source": [
    "df = pd.read_csv('C:\\\\Users\\\\Marcelo Brandao\\\\Documents\\\\datasets\\\\FTC\\\\pa_ftc\\\\fome_zero.csv')"
   ]
  },
  {
   "cell_type": "code",
   "execution_count": 4,
   "id": "4058d38f-c998-4417-affb-a0f4d0510b97",
   "metadata": {},
   "outputs": [
    {
     "data": {
      "text/html": [
       "<div>\n",
       "<style scoped>\n",
       "    .dataframe tbody tr th:only-of-type {\n",
       "        vertical-align: middle;\n",
       "    }\n",
       "\n",
       "    .dataframe tbody tr th {\n",
       "        vertical-align: top;\n",
       "    }\n",
       "\n",
       "    .dataframe thead th {\n",
       "        text-align: right;\n",
       "    }\n",
       "</style>\n",
       "<table border=\"1\" class=\"dataframe\">\n",
       "  <thead>\n",
       "    <tr style=\"text-align: right;\">\n",
       "      <th></th>\n",
       "      <th>Restaurant ID</th>\n",
       "      <th>Restaurant Name</th>\n",
       "      <th>Country Code</th>\n",
       "      <th>City</th>\n",
       "      <th>Address</th>\n",
       "      <th>Locality</th>\n",
       "      <th>Locality Verbose</th>\n",
       "      <th>Longitude</th>\n",
       "      <th>Latitude</th>\n",
       "      <th>Cuisines</th>\n",
       "      <th>...</th>\n",
       "      <th>Currency</th>\n",
       "      <th>Has Table booking</th>\n",
       "      <th>Has Online delivery</th>\n",
       "      <th>Is delivering now</th>\n",
       "      <th>Switch to order menu</th>\n",
       "      <th>Price range</th>\n",
       "      <th>Aggregate rating</th>\n",
       "      <th>Rating color</th>\n",
       "      <th>Rating text</th>\n",
       "      <th>Votes</th>\n",
       "    </tr>\n",
       "  </thead>\n",
       "  <tbody>\n",
       "    <tr>\n",
       "      <th>0</th>\n",
       "      <td>6310675</td>\n",
       "      <td>Mama Lou's Italian Kitchen</td>\n",
       "      <td>162</td>\n",
       "      <td>Las Piñas City</td>\n",
       "      <td>Block 1, Lot 36, Tropical Avenue Corner Tropic...</td>\n",
       "      <td>BF International</td>\n",
       "      <td>BF International, Las Piñas City</td>\n",
       "      <td>121.009787</td>\n",
       "      <td>14.447615</td>\n",
       "      <td>Italian</td>\n",
       "      <td>...</td>\n",
       "      <td>Botswana Pula(P)</td>\n",
       "      <td>1</td>\n",
       "      <td>0</td>\n",
       "      <td>0</td>\n",
       "      <td>0</td>\n",
       "      <td>3</td>\n",
       "      <td>4.6</td>\n",
       "      <td>3F7E00</td>\n",
       "      <td>Excellent</td>\n",
       "      <td>619</td>\n",
       "    </tr>\n",
       "    <tr>\n",
       "      <th>1</th>\n",
       "      <td>6310675</td>\n",
       "      <td>Mama Lou's Italian Kitchen</td>\n",
       "      <td>162</td>\n",
       "      <td>Las Piñas City</td>\n",
       "      <td>Block 1, Lot 36, Tropical Avenue Corner Tropic...</td>\n",
       "      <td>BF International</td>\n",
       "      <td>BF International, Las Piñas City</td>\n",
       "      <td>121.009787</td>\n",
       "      <td>14.447615</td>\n",
       "      <td>Italian</td>\n",
       "      <td>...</td>\n",
       "      <td>Botswana Pula(P)</td>\n",
       "      <td>1</td>\n",
       "      <td>0</td>\n",
       "      <td>0</td>\n",
       "      <td>0</td>\n",
       "      <td>3</td>\n",
       "      <td>4.6</td>\n",
       "      <td>3F7E00</td>\n",
       "      <td>Excellent</td>\n",
       "      <td>619</td>\n",
       "    </tr>\n",
       "    <tr>\n",
       "      <th>2</th>\n",
       "      <td>6314542</td>\n",
       "      <td>Blackbird</td>\n",
       "      <td>162</td>\n",
       "      <td>Makati City</td>\n",
       "      <td>Nielson Tower, Ayala Triangle Gardens, Salcedo...</td>\n",
       "      <td>Ayala Triangle Gardens, Salcedo Village, Makat...</td>\n",
       "      <td>Ayala Triangle Gardens, Salcedo Village, Makat...</td>\n",
       "      <td>121.024562</td>\n",
       "      <td>14.556042</td>\n",
       "      <td>European, Asian</td>\n",
       "      <td>...</td>\n",
       "      <td>Botswana Pula(P)</td>\n",
       "      <td>0</td>\n",
       "      <td>0</td>\n",
       "      <td>0</td>\n",
       "      <td>0</td>\n",
       "      <td>4</td>\n",
       "      <td>4.7</td>\n",
       "      <td>3F7E00</td>\n",
       "      <td>Excellent</td>\n",
       "      <td>469</td>\n",
       "    </tr>\n",
       "    <tr>\n",
       "      <th>3</th>\n",
       "      <td>6301293</td>\n",
       "      <td>Banapple</td>\n",
       "      <td>162</td>\n",
       "      <td>Makati City</td>\n",
       "      <td>Ayala Triangle Gardens, Salcedo Village, Makat...</td>\n",
       "      <td>Ayala Triangle Gardens, Salcedo Village, Makat...</td>\n",
       "      <td>Ayala Triangle Gardens, Salcedo Village, Makat...</td>\n",
       "      <td>121.023171</td>\n",
       "      <td>14.556196</td>\n",
       "      <td>Filipino, American, Italian, Bakery</td>\n",
       "      <td>...</td>\n",
       "      <td>Botswana Pula(P)</td>\n",
       "      <td>0</td>\n",
       "      <td>0</td>\n",
       "      <td>0</td>\n",
       "      <td>0</td>\n",
       "      <td>3</td>\n",
       "      <td>4.4</td>\n",
       "      <td>5BA829</td>\n",
       "      <td>Very Good</td>\n",
       "      <td>867</td>\n",
       "    </tr>\n",
       "    <tr>\n",
       "      <th>4</th>\n",
       "      <td>6315689</td>\n",
       "      <td>Bad Bird</td>\n",
       "      <td>162</td>\n",
       "      <td>Makati City</td>\n",
       "      <td>Hole In The Wall, Floor 4, Century City Mall, ...</td>\n",
       "      <td>Century City Mall, Poblacion, Makati City</td>\n",
       "      <td>Century City Mall, Poblacion, Makati City, Mak...</td>\n",
       "      <td>121.027708</td>\n",
       "      <td>14.565899</td>\n",
       "      <td>American</td>\n",
       "      <td>...</td>\n",
       "      <td>Botswana Pula(P)</td>\n",
       "      <td>0</td>\n",
       "      <td>0</td>\n",
       "      <td>0</td>\n",
       "      <td>0</td>\n",
       "      <td>3</td>\n",
       "      <td>4.4</td>\n",
       "      <td>5BA829</td>\n",
       "      <td>Very Good</td>\n",
       "      <td>858</td>\n",
       "    </tr>\n",
       "  </tbody>\n",
       "</table>\n",
       "<p>5 rows × 21 columns</p>\n",
       "</div>"
      ],
      "text/plain": [
       "   Restaurant ID             Restaurant Name  Country Code            City   \n",
       "0        6310675  Mama Lou's Italian Kitchen           162  Las Piñas City  \\\n",
       "1        6310675  Mama Lou's Italian Kitchen           162  Las Piñas City   \n",
       "2        6314542                   Blackbird           162     Makati City   \n",
       "3        6301293                    Banapple           162     Makati City   \n",
       "4        6315689                    Bad Bird           162     Makati City   \n",
       "\n",
       "                                             Address   \n",
       "0  Block 1, Lot 36, Tropical Avenue Corner Tropic...  \\\n",
       "1  Block 1, Lot 36, Tropical Avenue Corner Tropic...   \n",
       "2  Nielson Tower, Ayala Triangle Gardens, Salcedo...   \n",
       "3  Ayala Triangle Gardens, Salcedo Village, Makat...   \n",
       "4  Hole In The Wall, Floor 4, Century City Mall, ...   \n",
       "\n",
       "                                            Locality   \n",
       "0                                   BF International  \\\n",
       "1                                   BF International   \n",
       "2  Ayala Triangle Gardens, Salcedo Village, Makat...   \n",
       "3  Ayala Triangle Gardens, Salcedo Village, Makat...   \n",
       "4          Century City Mall, Poblacion, Makati City   \n",
       "\n",
       "                                    Locality Verbose   Longitude   Latitude   \n",
       "0                   BF International, Las Piñas City  121.009787  14.447615  \\\n",
       "1                   BF International, Las Piñas City  121.009787  14.447615   \n",
       "2  Ayala Triangle Gardens, Salcedo Village, Makat...  121.024562  14.556042   \n",
       "3  Ayala Triangle Gardens, Salcedo Village, Makat...  121.023171  14.556196   \n",
       "4  Century City Mall, Poblacion, Makati City, Mak...  121.027708  14.565899   \n",
       "\n",
       "                              Cuisines  ...          Currency   \n",
       "0                              Italian  ...  Botswana Pula(P)  \\\n",
       "1                              Italian  ...  Botswana Pula(P)   \n",
       "2                      European, Asian  ...  Botswana Pula(P)   \n",
       "3  Filipino, American, Italian, Bakery  ...  Botswana Pula(P)   \n",
       "4                             American  ...  Botswana Pula(P)   \n",
       "\n",
       "  Has Table booking  Has Online delivery  Is delivering now   \n",
       "0                 1                    0                  0  \\\n",
       "1                 1                    0                  0   \n",
       "2                 0                    0                  0   \n",
       "3                 0                    0                  0   \n",
       "4                 0                    0                  0   \n",
       "\n",
       "   Switch to order menu  Price range  Aggregate rating  Rating color   \n",
       "0                     0            3               4.6        3F7E00  \\\n",
       "1                     0            3               4.6        3F7E00   \n",
       "2                     0            4               4.7        3F7E00   \n",
       "3                     0            3               4.4        5BA829   \n",
       "4                     0            3               4.4        5BA829   \n",
       "\n",
       "  Rating text Votes  \n",
       "0   Excellent   619  \n",
       "1   Excellent   619  \n",
       "2   Excellent   469  \n",
       "3   Very Good   867  \n",
       "4   Very Good   858  \n",
       "\n",
       "[5 rows x 21 columns]"
      ]
     },
     "execution_count": 4,
     "metadata": {},
     "output_type": "execute_result"
    }
   ],
   "source": [
    "df.head()"
   ]
  },
  {
   "cell_type": "code",
   "execution_count": 5,
   "id": "bd7237ab-7a65-4213-b820-da6f96b406ad",
   "metadata": {
    "tags": []
   },
   "outputs": [
    {
     "data": {
      "text/html": [
       "<div>\n",
       "<style scoped>\n",
       "    .dataframe tbody tr th:only-of-type {\n",
       "        vertical-align: middle;\n",
       "    }\n",
       "\n",
       "    .dataframe tbody tr th {\n",
       "        vertical-align: top;\n",
       "    }\n",
       "\n",
       "    .dataframe thead th {\n",
       "        text-align: right;\n",
       "    }\n",
       "</style>\n",
       "<table border=\"1\" class=\"dataframe\">\n",
       "  <thead>\n",
       "    <tr style=\"text-align: right;\">\n",
       "      <th></th>\n",
       "      <th>Restaurant ID</th>\n",
       "      <th>Country Code</th>\n",
       "      <th>Longitude</th>\n",
       "      <th>Latitude</th>\n",
       "      <th>Average Cost for two</th>\n",
       "      <th>Has Table booking</th>\n",
       "      <th>Has Online delivery</th>\n",
       "      <th>Is delivering now</th>\n",
       "      <th>Switch to order menu</th>\n",
       "      <th>Price range</th>\n",
       "      <th>Aggregate rating</th>\n",
       "      <th>Votes</th>\n",
       "    </tr>\n",
       "  </thead>\n",
       "  <tbody>\n",
       "    <tr>\n",
       "      <th>count</th>\n",
       "      <td>7.527000e+03</td>\n",
       "      <td>7527.000000</td>\n",
       "      <td>7527.000000</td>\n",
       "      <td>7527.000000</td>\n",
       "      <td>7.527000e+03</td>\n",
       "      <td>7527.000000</td>\n",
       "      <td>7527.000000</td>\n",
       "      <td>7527.000000</td>\n",
       "      <td>7527.0</td>\n",
       "      <td>7527.000000</td>\n",
       "      <td>7527.000000</td>\n",
       "      <td>7527.000000</td>\n",
       "    </tr>\n",
       "    <tr>\n",
       "      <th>mean</th>\n",
       "      <td>1.055689e+07</td>\n",
       "      <td>93.065365</td>\n",
       "      <td>33.764092</td>\n",
       "      <td>19.332787</td>\n",
       "      <td>7.152113e+03</td>\n",
       "      <td>0.062176</td>\n",
       "      <td>0.352464</td>\n",
       "      <td>0.174306</td>\n",
       "      <td>0.0</td>\n",
       "      <td>2.624552</td>\n",
       "      <td>4.118055</td>\n",
       "      <td>616.401488</td>\n",
       "    </tr>\n",
       "    <tr>\n",
       "      <th>std</th>\n",
       "      <td>7.075141e+06</td>\n",
       "      <td>99.031229</td>\n",
       "      <td>77.395241</td>\n",
       "      <td>23.255979</td>\n",
       "      <td>2.906068e+05</td>\n",
       "      <td>0.241491</td>\n",
       "      <td>0.477769</td>\n",
       "      <td>0.379397</td>\n",
       "      <td>0.0</td>\n",
       "      <td>0.959794</td>\n",
       "      <td>0.680191</td>\n",
       "      <td>1127.697932</td>\n",
       "    </tr>\n",
       "    <tr>\n",
       "      <th>min</th>\n",
       "      <td>5.490000e+02</td>\n",
       "      <td>1.000000</td>\n",
       "      <td>-122.700455</td>\n",
       "      <td>-41.330428</td>\n",
       "      <td>0.000000e+00</td>\n",
       "      <td>0.000000</td>\n",
       "      <td>0.000000</td>\n",
       "      <td>0.000000</td>\n",
       "      <td>0.0</td>\n",
       "      <td>1.000000</td>\n",
       "      <td>0.000000</td>\n",
       "      <td>0.000000</td>\n",
       "    </tr>\n",
       "    <tr>\n",
       "      <th>25%</th>\n",
       "      <td>3.500060e+06</td>\n",
       "      <td>1.000000</td>\n",
       "      <td>-4.258142</td>\n",
       "      <td>12.923378</td>\n",
       "      <td>6.000000e+01</td>\n",
       "      <td>0.000000</td>\n",
       "      <td>0.000000</td>\n",
       "      <td>0.000000</td>\n",
       "      <td>0.0</td>\n",
       "      <td>2.000000</td>\n",
       "      <td>4.000000</td>\n",
       "      <td>152.000000</td>\n",
       "    </tr>\n",
       "    <tr>\n",
       "      <th>50%</th>\n",
       "      <td>7.701457e+06</td>\n",
       "      <td>30.000000</td>\n",
       "      <td>73.785121</td>\n",
       "      <td>25.246955</td>\n",
       "      <td>2.900000e+02</td>\n",
       "      <td>0.000000</td>\n",
       "      <td>0.000000</td>\n",
       "      <td>0.000000</td>\n",
       "      <td>0.0</td>\n",
       "      <td>3.000000</td>\n",
       "      <td>4.200000</td>\n",
       "      <td>335.000000</td>\n",
       "    </tr>\n",
       "    <tr>\n",
       "      <th>75%</th>\n",
       "      <td>1.714715e+07</td>\n",
       "      <td>214.000000</td>\n",
       "      <td>79.833706</td>\n",
       "      <td>31.636552</td>\n",
       "      <td>6.000000e+02</td>\n",
       "      <td>0.000000</td>\n",
       "      <td>1.000000</td>\n",
       "      <td>0.000000</td>\n",
       "      <td>0.0</td>\n",
       "      <td>3.000000</td>\n",
       "      <td>4.500000</td>\n",
       "      <td>663.000000</td>\n",
       "    </tr>\n",
       "    <tr>\n",
       "      <th>max</th>\n",
       "      <td>1.904028e+07</td>\n",
       "      <td>216.000000</td>\n",
       "      <td>175.310552</td>\n",
       "      <td>55.976980</td>\n",
       "      <td>2.500002e+07</td>\n",
       "      <td>1.000000</td>\n",
       "      <td>1.000000</td>\n",
       "      <td>1.000000</td>\n",
       "      <td>0.0</td>\n",
       "      <td>4.000000</td>\n",
       "      <td>4.900000</td>\n",
       "      <td>41333.000000</td>\n",
       "    </tr>\n",
       "  </tbody>\n",
       "</table>\n",
       "</div>"
      ],
      "text/plain": [
       "       Restaurant ID  Country Code    Longitude     Latitude   \n",
       "count   7.527000e+03   7527.000000  7527.000000  7527.000000  \\\n",
       "mean    1.055689e+07     93.065365    33.764092    19.332787   \n",
       "std     7.075141e+06     99.031229    77.395241    23.255979   \n",
       "min     5.490000e+02      1.000000  -122.700455   -41.330428   \n",
       "25%     3.500060e+06      1.000000    -4.258142    12.923378   \n",
       "50%     7.701457e+06     30.000000    73.785121    25.246955   \n",
       "75%     1.714715e+07    214.000000    79.833706    31.636552   \n",
       "max     1.904028e+07    216.000000   175.310552    55.976980   \n",
       "\n",
       "       Average Cost for two  Has Table booking  Has Online delivery   \n",
       "count          7.527000e+03        7527.000000          7527.000000  \\\n",
       "mean           7.152113e+03           0.062176             0.352464   \n",
       "std            2.906068e+05           0.241491             0.477769   \n",
       "min            0.000000e+00           0.000000             0.000000   \n",
       "25%            6.000000e+01           0.000000             0.000000   \n",
       "50%            2.900000e+02           0.000000             0.000000   \n",
       "75%            6.000000e+02           0.000000             1.000000   \n",
       "max            2.500002e+07           1.000000             1.000000   \n",
       "\n",
       "       Is delivering now  Switch to order menu  Price range  Aggregate rating   \n",
       "count        7527.000000                7527.0  7527.000000       7527.000000  \\\n",
       "mean            0.174306                   0.0     2.624552          4.118055   \n",
       "std             0.379397                   0.0     0.959794          0.680191   \n",
       "min             0.000000                   0.0     1.000000          0.000000   \n",
       "25%             0.000000                   0.0     2.000000          4.000000   \n",
       "50%             0.000000                   0.0     3.000000          4.200000   \n",
       "75%             0.000000                   0.0     3.000000          4.500000   \n",
       "max             1.000000                   0.0     4.000000          4.900000   \n",
       "\n",
       "              Votes  \n",
       "count   7527.000000  \n",
       "mean     616.401488  \n",
       "std     1127.697932  \n",
       "min        0.000000  \n",
       "25%      152.000000  \n",
       "50%      335.000000  \n",
       "75%      663.000000  \n",
       "max    41333.000000  "
      ]
     },
     "execution_count": 5,
     "metadata": {},
     "output_type": "execute_result"
    }
   ],
   "source": [
    "df.describe()"
   ]
  },
  {
   "cell_type": "markdown",
   "id": "137d81f9-212b-487c-8af1-47c6fd7a461c",
   "metadata": {
    "tags": []
   },
   "source": [
    "# Dataset Preparation"
   ]
  },
  {
   "cell_type": "markdown",
   "id": "e0a1058b-8d2a-47e3-9b98-f12e7b42bd82",
   "metadata": {},
   "source": [
    "## Preenchimento do nome dos países"
   ]
  },
  {
   "cell_type": "code",
   "execution_count": 6,
   "id": "18fababe-e278-437f-8add-902f5da4c6fb",
   "metadata": {
    "tags": []
   },
   "outputs": [],
   "source": [
    "COUNTRIES = {\n",
    "    1: \"India\",\n",
    "    14: \"Australia\",\n",
    "    30: \"Brazil\",\n",
    "    37: \"Canada\",\n",
    "    94: \"Indonesia\",\n",
    "    148: \"New Zeland\",\n",
    "    162: \"Philippines\",\n",
    "    166: \"Qatar\",\n",
    "    184: \"Singapure\",\n",
    "    189: \"South Africa\",\n",
    "    191: \"Sri Lanka\",\n",
    "    208: \"Turkey\",\n",
    "    214: \"United Arab Emirates\",\n",
    "    215: \"England\",\n",
    "    216: \"United States of America\",\n",
    "}\n",
    "def country_name(country_id):\n",
    "    return COUNTRIES[country_id]"
   ]
  },
  {
   "cell_type": "code",
   "execution_count": 7,
   "id": "ba9ea0ac-d698-4629-9c9f-0c540398c74b",
   "metadata": {
    "tags": []
   },
   "outputs": [],
   "source": [
    "df['country_name'] = df['Country Code'].apply(country_name)"
   ]
  },
  {
   "cell_type": "markdown",
   "id": "0e54ecf2-5570-4366-b62d-3ae8bfbb5134",
   "metadata": {
    "tags": []
   },
   "source": [
    "## Criação do Tipo de Categoria de Comida\n"
   ]
  },
  {
   "cell_type": "code",
   "execution_count": 8,
   "id": "62813021-3f65-463f-a667-3ba4bf814bfc",
   "metadata": {
    "tags": []
   },
   "outputs": [],
   "source": [
    "def create_price_type(price_range):\n",
    "    if price_range == 1:\n",
    "        return \"cheap\"\n",
    "    elif price_range == 2:\n",
    "        return \"normal\"\n",
    "    elif price_range == 3:\n",
    "        return \"expensive\"\n",
    "    else:\n",
    "        return \"gourmet\"\n"
   ]
  },
  {
   "cell_type": "code",
   "execution_count": 9,
   "id": "44da690e-6b6a-45c1-a2b6-938246805b8a",
   "metadata": {
    "tags": []
   },
   "outputs": [],
   "source": [
    "df['food_category'] = df['Price range'].apply(create_price_type)"
   ]
  },
  {
   "cell_type": "markdown",
   "id": "0f7cea6a-f31d-4bc5-8c40-2ea47b47937a",
   "metadata": {},
   "source": [
    "## Criação do nome das Cores"
   ]
  },
  {
   "cell_type": "code",
   "execution_count": 10,
   "id": "9ffc2694-6146-46df-ade1-847811f98b7b",
   "metadata": {
    "tags": []
   },
   "outputs": [],
   "source": [
    "COLORS = {\n",
    "\"3F7E00\": \"darkgreen\",\n",
    "\"5BA829\": \"green\",\n",
    "\"9ACD32\": \"lightgreen\",\n",
    "\"CDD614\": \"orange\",\n",
    "\"FFBA00\": \"red\",\n",
    "\"CBCBC8\": \"darkred\",\n",
    "\"FF7800\": \"darkred\",\n",
    "}\n",
    "def color_name(color_code):\n",
    "    return COLORS[color_code]\n"
   ]
  },
  {
   "cell_type": "code",
   "execution_count": 11,
   "id": "5dff2964-f107-44d2-8d17-349476f7c0ea",
   "metadata": {
    "tags": []
   },
   "outputs": [],
   "source": [
    "df['color_name'] = df['Rating color'].apply(color_name)"
   ]
  },
  {
   "cell_type": "markdown",
   "id": "b7a3ad13-e6b2-44eb-bb2d-9690fd164544",
   "metadata": {},
   "source": [
    "## Renomear as colunas do DataFrame"
   ]
  },
  {
   "cell_type": "code",
   "execution_count": 12,
   "id": "9a839861-b027-4203-b3f7-d9053070d202",
   "metadata": {
    "tags": []
   },
   "outputs": [],
   "source": [
    "def rename_columns(dataframe):\n",
    "    df = dataframe.copy()\n",
    "    title = lambda x: inflection.titleize(x)\n",
    "    snakecase = lambda x: inflection.underscore(x)\n",
    "    spaces = lambda x: x.replace(\" \", \"\")\n",
    "    cols_old = list(df.columns)\n",
    "    cols_old = list(map(title, cols_old))\n",
    "    cols_old = list(map(spaces, cols_old))\n",
    "    cols_new = list(map(snakecase, cols_old))\n",
    "    df.columns = cols_new\n",
    "    return df\n"
   ]
  },
  {
   "cell_type": "code",
   "execution_count": 13,
   "id": "0544a64d-5067-449b-be0d-14a69b171d3b",
   "metadata": {
    "tags": []
   },
   "outputs": [],
   "source": [
    "df = rename_columns(df)"
   ]
  },
  {
   "cell_type": "markdown",
   "id": "f011c0b2-bb2d-4cdf-ba34-1d80b20377a0",
   "metadata": {
    "tags": []
   },
   "source": [
    "## Categorizar por um tipo de culinária"
   ]
  },
  {
   "cell_type": "code",
   "execution_count": 14,
   "id": "1bbf5f47-7859-4175-8171-bfb8d0413137",
   "metadata": {
    "tags": []
   },
   "outputs": [],
   "source": [
    "df[\"cuisines\"] = df.loc[:, \"cuisines\"].apply(lambda x: x.split(\",\")[0] if isinstance(x, str) else x)\n"
   ]
  },
  {
   "cell_type": "markdown",
   "id": "933d08de-8e2e-48a4-8e57-937bca3ba05a",
   "metadata": {
    "jp-MarkdownHeadingCollapsed": true,
    "tags": []
   },
   "source": [
    "# Geral\n"
   ]
  },
  {
   "cell_type": "markdown",
   "id": "69d79d24-0f38-4581-9d40-1164b018cf80",
   "metadata": {
    "tags": []
   },
   "source": [
    "## 1. Quantos restaurantes únicos estão registrados?"
   ]
  },
  {
   "cell_type": "code",
   "execution_count": 15,
   "id": "a8d46d7d-1585-4c96-a822-292884f03cc2",
   "metadata": {
    "tags": []
   },
   "outputs": [
    {
     "data": {
      "text/html": [
       "<div>\n",
       "<style scoped>\n",
       "    .dataframe tbody tr th:only-of-type {\n",
       "        vertical-align: middle;\n",
       "    }\n",
       "\n",
       "    .dataframe tbody tr th {\n",
       "        vertical-align: top;\n",
       "    }\n",
       "\n",
       "    .dataframe thead th {\n",
       "        text-align: right;\n",
       "    }\n",
       "</style>\n",
       "<table border=\"1\" class=\"dataframe\">\n",
       "  <thead>\n",
       "    <tr style=\"text-align: right;\">\n",
       "      <th></th>\n",
       "      <th>restaurant_id</th>\n",
       "      <th>restaurant_name</th>\n",
       "      <th>country_code</th>\n",
       "      <th>city</th>\n",
       "      <th>address</th>\n",
       "      <th>locality</th>\n",
       "      <th>locality_verbose</th>\n",
       "      <th>longitude</th>\n",
       "      <th>latitude</th>\n",
       "      <th>cuisines</th>\n",
       "      <th>...</th>\n",
       "      <th>is_delivering_now</th>\n",
       "      <th>switch_to_order_menu</th>\n",
       "      <th>price_range</th>\n",
       "      <th>aggregate_rating</th>\n",
       "      <th>rating_color</th>\n",
       "      <th>rating_text</th>\n",
       "      <th>votes</th>\n",
       "      <th>country_name</th>\n",
       "      <th>food_category</th>\n",
       "      <th>color_name</th>\n",
       "    </tr>\n",
       "  </thead>\n",
       "  <tbody>\n",
       "    <tr>\n",
       "      <th>0</th>\n",
       "      <td>6310675</td>\n",
       "      <td>Mama Lou's Italian Kitchen</td>\n",
       "      <td>162</td>\n",
       "      <td>Las Piñas City</td>\n",
       "      <td>Block 1, Lot 36, Tropical Avenue Corner Tropic...</td>\n",
       "      <td>BF International</td>\n",
       "      <td>BF International, Las Piñas City</td>\n",
       "      <td>121.009787</td>\n",
       "      <td>14.447615</td>\n",
       "      <td>Italian</td>\n",
       "      <td>...</td>\n",
       "      <td>0</td>\n",
       "      <td>0</td>\n",
       "      <td>3</td>\n",
       "      <td>4.6</td>\n",
       "      <td>3F7E00</td>\n",
       "      <td>Excellent</td>\n",
       "      <td>619</td>\n",
       "      <td>Philippines</td>\n",
       "      <td>expensive</td>\n",
       "      <td>darkgreen</td>\n",
       "    </tr>\n",
       "  </tbody>\n",
       "</table>\n",
       "<p>1 rows × 24 columns</p>\n",
       "</div>"
      ],
      "text/plain": [
       "   restaurant_id             restaurant_name  country_code            city   \n",
       "0        6310675  Mama Lou's Italian Kitchen           162  Las Piñas City  \\\n",
       "\n",
       "                                             address          locality   \n",
       "0  Block 1, Lot 36, Tropical Avenue Corner Tropic...  BF International  \\\n",
       "\n",
       "                   locality_verbose   longitude   latitude cuisines  ...   \n",
       "0  BF International, Las Piñas City  121.009787  14.447615  Italian  ...  \\\n",
       "\n",
       "   is_delivering_now switch_to_order_menu  price_range  aggregate_rating   \n",
       "0                  0                    0            3               4.6  \\\n",
       "\n",
       "   rating_color  rating_text  votes  country_name food_category color_name  \n",
       "0        3F7E00    Excellent    619   Philippines     expensive  darkgreen  \n",
       "\n",
       "[1 rows x 24 columns]"
      ]
     },
     "execution_count": 15,
     "metadata": {},
     "output_type": "execute_result"
    }
   ],
   "source": [
    "df.head(1)"
   ]
  },
  {
   "cell_type": "code",
   "execution_count": 16,
   "id": "f6ce3a08-e42f-49c2-ad1b-b1471bbcf2d5",
   "metadata": {
    "tags": []
   },
   "outputs": [
    {
     "data": {
      "text/plain": [
       "6942"
      ]
     },
     "execution_count": 16,
     "metadata": {},
     "output_type": "execute_result"
    }
   ],
   "source": [
    "df['restaurant_id'].nunique()\n"
   ]
  },
  {
   "cell_type": "markdown",
   "id": "6cc90ce0-bfcb-47fa-9da0-f1faf67d6e6a",
   "metadata": {},
   "source": [
    "## 2. Quantos países únicos estão registrados?"
   ]
  },
  {
   "cell_type": "code",
   "execution_count": 17,
   "id": "14177f1c-181c-4684-807b-5a3b17f00d9d",
   "metadata": {
    "tags": []
   },
   "outputs": [
    {
     "data": {
      "text/plain": [
       "15"
      ]
     },
     "execution_count": 17,
     "metadata": {},
     "output_type": "execute_result"
    }
   ],
   "source": [
    "df['country_code'].nunique()\n"
   ]
  },
  {
   "cell_type": "markdown",
   "id": "fdee5068-d70f-4b6a-a22d-8fbaa8621250",
   "metadata": {},
   "source": [
    "## 3. Quantas cidades únicas estão registradas?"
   ]
  },
  {
   "cell_type": "code",
   "execution_count": 18,
   "id": "bc8c275d-a665-46a0-a883-b0b8e7d57b2c",
   "metadata": {
    "tags": []
   },
   "outputs": [
    {
     "data": {
      "text/plain": [
       "125"
      ]
     },
     "execution_count": 18,
     "metadata": {},
     "output_type": "execute_result"
    }
   ],
   "source": [
    "df['city'].nunique()"
   ]
  },
  {
   "cell_type": "markdown",
   "id": "e9d2d540-6be3-4055-86ba-e23de1955154",
   "metadata": {},
   "source": [
    "## 4. Qual o total de avaliações feitas?\n"
   ]
  },
  {
   "cell_type": "code",
   "execution_count": 19,
   "id": "6590cabc-1de6-4e91-9e57-cfe8f2e2de55",
   "metadata": {
    "tags": []
   },
   "outputs": [
    {
     "data": {
      "text/plain": [
       "4639654"
      ]
     },
     "execution_count": 19,
     "metadata": {},
     "output_type": "execute_result"
    }
   ],
   "source": [
    "df['votes'].sum()"
   ]
  },
  {
   "cell_type": "markdown",
   "id": "fa562747-7efe-48be-8072-c08500c11b67",
   "metadata": {},
   "source": [
    "## 5. Qual o total de tipos de culinária registrados?"
   ]
  },
  {
   "cell_type": "code",
   "execution_count": 20,
   "id": "22df6213-0628-41ab-8024-bdc85a301f16",
   "metadata": {
    "tags": []
   },
   "outputs": [
    {
     "data": {
      "text/plain": [
       "165"
      ]
     },
     "execution_count": 20,
     "metadata": {},
     "output_type": "execute_result"
    }
   ],
   "source": [
    "df['cuisines'].nunique()"
   ]
  },
  {
   "cell_type": "markdown",
   "id": "7249e4ec-a54b-4324-8876-13db3643f4f4",
   "metadata": {
    "jp-MarkdownHeadingCollapsed": true,
    "tags": []
   },
   "source": [
    "# Pais"
   ]
  },
  {
   "cell_type": "code",
   "execution_count": 21,
   "id": "1d9ffdd2-4433-4c5c-b59d-83ea4a85a2b4",
   "metadata": {
    "tags": []
   },
   "outputs": [
    {
     "data": {
      "text/html": [
       "<div>\n",
       "<style scoped>\n",
       "    .dataframe tbody tr th:only-of-type {\n",
       "        vertical-align: middle;\n",
       "    }\n",
       "\n",
       "    .dataframe tbody tr th {\n",
       "        vertical-align: top;\n",
       "    }\n",
       "\n",
       "    .dataframe thead th {\n",
       "        text-align: right;\n",
       "    }\n",
       "</style>\n",
       "<table border=\"1\" class=\"dataframe\">\n",
       "  <thead>\n",
       "    <tr style=\"text-align: right;\">\n",
       "      <th></th>\n",
       "      <th>restaurant_id</th>\n",
       "      <th>restaurant_name</th>\n",
       "      <th>country_code</th>\n",
       "      <th>city</th>\n",
       "      <th>address</th>\n",
       "      <th>locality</th>\n",
       "      <th>locality_verbose</th>\n",
       "      <th>longitude</th>\n",
       "      <th>latitude</th>\n",
       "      <th>cuisines</th>\n",
       "      <th>...</th>\n",
       "      <th>is_delivering_now</th>\n",
       "      <th>switch_to_order_menu</th>\n",
       "      <th>price_range</th>\n",
       "      <th>aggregate_rating</th>\n",
       "      <th>rating_color</th>\n",
       "      <th>rating_text</th>\n",
       "      <th>votes</th>\n",
       "      <th>country_name</th>\n",
       "      <th>food_category</th>\n",
       "      <th>color_name</th>\n",
       "    </tr>\n",
       "  </thead>\n",
       "  <tbody>\n",
       "    <tr>\n",
       "      <th>0</th>\n",
       "      <td>6310675</td>\n",
       "      <td>Mama Lou's Italian Kitchen</td>\n",
       "      <td>162</td>\n",
       "      <td>Las Piñas City</td>\n",
       "      <td>Block 1, Lot 36, Tropical Avenue Corner Tropic...</td>\n",
       "      <td>BF International</td>\n",
       "      <td>BF International, Las Piñas City</td>\n",
       "      <td>121.009787</td>\n",
       "      <td>14.447615</td>\n",
       "      <td>Italian</td>\n",
       "      <td>...</td>\n",
       "      <td>0</td>\n",
       "      <td>0</td>\n",
       "      <td>3</td>\n",
       "      <td>4.6</td>\n",
       "      <td>3F7E00</td>\n",
       "      <td>Excellent</td>\n",
       "      <td>619</td>\n",
       "      <td>Philippines</td>\n",
       "      <td>expensive</td>\n",
       "      <td>darkgreen</td>\n",
       "    </tr>\n",
       "  </tbody>\n",
       "</table>\n",
       "<p>1 rows × 24 columns</p>\n",
       "</div>"
      ],
      "text/plain": [
       "   restaurant_id             restaurant_name  country_code            city   \n",
       "0        6310675  Mama Lou's Italian Kitchen           162  Las Piñas City  \\\n",
       "\n",
       "                                             address          locality   \n",
       "0  Block 1, Lot 36, Tropical Avenue Corner Tropic...  BF International  \\\n",
       "\n",
       "                   locality_verbose   longitude   latitude cuisines  ...   \n",
       "0  BF International, Las Piñas City  121.009787  14.447615  Italian  ...  \\\n",
       "\n",
       "   is_delivering_now switch_to_order_menu  price_range  aggregate_rating   \n",
       "0                  0                    0            3               4.6  \\\n",
       "\n",
       "   rating_color  rating_text  votes  country_name food_category color_name  \n",
       "0        3F7E00    Excellent    619   Philippines     expensive  darkgreen  \n",
       "\n",
       "[1 rows x 24 columns]"
      ]
     },
     "execution_count": 21,
     "metadata": {},
     "output_type": "execute_result"
    }
   ],
   "source": [
    "df.head(1)"
   ]
  },
  {
   "cell_type": "code",
   "execution_count": 22,
   "id": "4707cccc-4356-4f26-a4ee-9210c688850f",
   "metadata": {
    "tags": []
   },
   "outputs": [
    {
     "data": {
      "text/plain": [
       "Index(['restaurant_id', 'restaurant_name', 'country_code', 'city', 'address',\n",
       "       'locality', 'locality_verbose', 'longitude', 'latitude', 'cuisines',\n",
       "       'average_cost_for_two', 'currency', 'has_table_booking',\n",
       "       'has_online_delivery', 'is_delivering_now', 'switch_to_order_menu',\n",
       "       'price_range', 'aggregate_rating', 'rating_color', 'rating_text',\n",
       "       'votes', 'country_name', 'food_category', 'color_name'],\n",
       "      dtype='object')"
      ]
     },
     "execution_count": 22,
     "metadata": {},
     "output_type": "execute_result"
    }
   ],
   "source": [
    "df.columns"
   ]
  },
  {
   "cell_type": "markdown",
   "id": "b1a33dfd-c7e3-41c9-9f14-b9009eb79edf",
   "metadata": {},
   "source": [
    "## 1. Qual o nome do país que possui mais cidades registradas?\n"
   ]
  },
  {
   "cell_type": "code",
   "execution_count": 23,
   "id": "e450e377-fd53-48b0-9c55-17951a405f55",
   "metadata": {
    "tags": []
   },
   "outputs": [
    {
     "name": "stdout",
     "output_type": "stream",
     "text": [
      "Nome do país com mais cidades registradas: India\n"
     ]
    }
   ],
   "source": [
    "result = df[['country_name','city']].groupby(['country_name']).count().reset_index().sort_values('city', ascending = False)\n",
    "first_country_name = result['country_name'].iloc[0]                                                        \n",
    "print(\"Nome do país com mais cidades registradas:\", first_country_name)"
   ]
  },
  {
   "cell_type": "markdown",
   "id": "5792b662-a4ff-4676-92b9-035cd958e927",
   "metadata": {},
   "source": [
    "## 2. Qual o nome do país que possui mais restaurantes registrados?"
   ]
  },
  {
   "cell_type": "code",
   "execution_count": 24,
   "id": "3f82ba48-3f5d-4eb6-b6bf-a901efd16b87",
   "metadata": {
    "tags": []
   },
   "outputs": [
    {
     "name": "stdout",
     "output_type": "stream",
     "text": [
      "Nome do país com mais restaurantes registrados: India\n"
     ]
    }
   ],
   "source": [
    "df[['country_name','restaurant_id']].groupby(['country_name']).count().reset_index().sort_values('restaurant_id', ascending = False)\n",
    "first_country_name = result['country_name'].iloc[0]                                                        \n",
    "print(\"Nome do país com mais restaurantes registrados:\", first_country_name)"
   ]
  },
  {
   "cell_type": "markdown",
   "id": "b37973d3-4f1f-4428-88ef-7c641743a0b4",
   "metadata": {},
   "source": [
    "## 3. Qual o nome do país que possui mais restaurantes com o nível de preço igual a 4 registrados?\n",
    "\n"
   ]
  },
  {
   "cell_type": "code",
   "execution_count": 25,
   "id": "ab3169fa-edbd-4c6c-aa57-60a884512f60",
   "metadata": {
    "tags": []
   },
   "outputs": [],
   "source": [
    "filtered_df = df[df['price_range'] == 4]"
   ]
  },
  {
   "cell_type": "code",
   "execution_count": 26,
   "id": "fbf1f88b-19f2-4280-a5fe-5d1e27f8da6b",
   "metadata": {
    "tags": []
   },
   "outputs": [
    {
     "name": "stdout",
     "output_type": "stream",
     "text": [
      "Nome do país com mais restaurantes com o nível de preço igual a 4 registrados: United States of America\n"
     ]
    }
   ],
   "source": [
    "result = filtered_df[['country_name','price_range']].groupby(['country_name']).count().reset_index().sort_values('price_range', ascending = False)\n",
    "first_country_name = result['country_name'].iloc[0]                                                        \n",
    "print(\"Nome do país com mais restaurantes com o nível de preço igual a 4 registrados:\", first_country_name)"
   ]
  },
  {
   "cell_type": "markdown",
   "id": "e13ffda7-3ca6-48be-83c9-18b895c8ec7e",
   "metadata": {},
   "source": [
    "## 4. Qual o nome do país que possui a maior quantidade de tipos de culinária distintos?"
   ]
  },
  {
   "cell_type": "code",
   "execution_count": 27,
   "id": "a8854084-7993-458b-bcdd-61ee946b9bbe",
   "metadata": {
    "tags": []
   },
   "outputs": [
    {
     "name": "stdout",
     "output_type": "stream",
     "text": [
      "Nome do país que possui a maior quantidade de tipos de culinária distintos: India\n"
     ]
    }
   ],
   "source": [
    "result = df[['country_name','cuisines']].groupby(['country_name']).nunique().reset_index().sort_values('cuisines', ascending = False)\n",
    "first_country_name = result['country_name'].iloc[0]                                                        \n",
    "print(\"Nome do país que possui a maior quantidade de tipos de culinária distintos:\", first_country_name)"
   ]
  },
  {
   "cell_type": "markdown",
   "id": "c0ead77e-cb6b-45cf-b1f1-66e077df365d",
   "metadata": {},
   "source": [
    "## 5. Qual o nome do país que possui a maior quantidade de avaliações feitas?"
   ]
  },
  {
   "cell_type": "code",
   "execution_count": 28,
   "id": "e3fe750f-6f1f-4a48-93e3-a64deac93f9f",
   "metadata": {
    "tags": []
   },
   "outputs": [
    {
     "name": "stdout",
     "output_type": "stream",
     "text": [
      "Nome do país que possui a maior quantidade de avaliações feitas: India\n"
     ]
    }
   ],
   "source": [
    "result = df[['country_name','votes']].groupby(['country_name']).sum().reset_index().sort_values('votes', ascending = False)\n",
    "first_country_name = result['country_name'].iloc[0]                                                        \n",
    "print(\"Nome do país que possui a maior quantidade de avaliações feitas:\", first_country_name)"
   ]
  },
  {
   "cell_type": "markdown",
   "id": "6106494d-6313-4898-802e-e7995db42fb1",
   "metadata": {},
   "source": [
    "## 6. Qual o nome do país que possui a maior quantidade de restaurantes que fazem entrega?"
   ]
  },
  {
   "cell_type": "code",
   "execution_count": 29,
   "id": "be8c238f-e012-4a11-9286-e84091f3ed0d",
   "metadata": {
    "tags": []
   },
   "outputs": [],
   "source": [
    "filtered_df = df[df['has_online_delivery']==1]"
   ]
  },
  {
   "cell_type": "code",
   "execution_count": 30,
   "id": "29a29be5-bbb8-4789-b4ef-42e9b2b7405a",
   "metadata": {
    "tags": []
   },
   "outputs": [
    {
     "name": "stdout",
     "output_type": "stream",
     "text": [
      "Nome do país que possui a maior quantidade de restaurantes que fazem entrega: India\n"
     ]
    }
   ],
   "source": [
    "result = filtered_df[['country_name','restaurant_id']].groupby(['country_name']).count().reset_index().sort_values('restaurant_id', ascending = False)\n",
    "first_country_name = result['country_name'].iloc[0]                                                        \n",
    "print(\"Nome do país que possui a maior quantidade de restaurantes que fazem entrega:\", first_country_name)"
   ]
  },
  {
   "cell_type": "markdown",
   "id": "54bc66cc-5ee5-488b-b1b0-01777ace51fa",
   "metadata": {},
   "source": [
    "## 7. Qual o nome do país que possui a maior quantidade de restaurantes que aceitam reservas?"
   ]
  },
  {
   "cell_type": "code",
   "execution_count": 31,
   "id": "1165066b-621e-40db-b5f6-be632c78c69f",
   "metadata": {
    "tags": []
   },
   "outputs": [],
   "source": [
    "filtered_df = df[df['has_table_booking']==1]"
   ]
  },
  {
   "cell_type": "code",
   "execution_count": 32,
   "id": "a7c84b93-7d9b-41e2-9040-b07a7f2acb16",
   "metadata": {
    "tags": []
   },
   "outputs": [
    {
     "name": "stdout",
     "output_type": "stream",
     "text": [
      "Nome do país que possui a maior quantidade de restaurantes que aceitam reservas: India\n"
     ]
    }
   ],
   "source": [
    "result = filtered_df[['country_name','restaurant_id']].groupby(['country_name']).count().reset_index().sort_values('restaurant_id', ascending = False)\n",
    "first_country_name = result['country_name'].iloc[0]                                                        \n",
    "print(\"Nome do país que possui a maior quantidade de restaurantes que aceitam reservas:\", first_country_name)"
   ]
  },
  {
   "cell_type": "markdown",
   "id": "09b88068-846c-4fa9-83c7-2fee9c26fa2a",
   "metadata": {},
   "source": [
    "## 8. Qual o nome do país que possui, na média, a maior quantidade de avaliações registrada?\n"
   ]
  },
  {
   "cell_type": "code",
   "execution_count": 33,
   "id": "606af698-8920-49b7-997c-9eb4de0e53cd",
   "metadata": {
    "tags": []
   },
   "outputs": [
    {
     "name": "stdout",
     "output_type": "stream",
     "text": [
      "Nome do país que possui, na média, a maior quantidade de avaliações registradas: Indonesia\n"
     ]
    }
   ],
   "source": [
    "result = df[['country_name','votes']].groupby(['country_name']).mean().reset_index().sort_values('votes', ascending = False)\n",
    "first_country_name = result['country_name'].iloc[0]                                                        \n",
    "print(\"Nome do país que possui, na média, a maior quantidade de avaliações registradas:\", first_country_name)"
   ]
  },
  {
   "cell_type": "markdown",
   "id": "255e362e-5957-4031-afad-a39f70ed5443",
   "metadata": {},
   "source": [
    "## 9. Qual o nome do país que possui, na média, a maior nota média registrada?"
   ]
  },
  {
   "cell_type": "code",
   "execution_count": 34,
   "id": "5e6f8ca4-70ca-4a9d-887f-a53772dad0b7",
   "metadata": {
    "tags": []
   },
   "outputs": [
    {
     "name": "stdout",
     "output_type": "stream",
     "text": [
      "Nome do país que possui, na média, a maior nota média registrada: Indonesia\n"
     ]
    }
   ],
   "source": [
    "result = df[['country_name','aggregate_rating']].groupby(['country_name']).mean().reset_index().sort_values('aggregate_rating', ascending = False)\n",
    "first_country_name = result['country_name'].iloc[0]                                                        \n",
    "print(\"Nome do país que possui, na média, a maior nota média registrada:\", first_country_name)"
   ]
  },
  {
   "cell_type": "markdown",
   "id": "5fa9c1ec-2914-4b02-9bee-0a75d314f9d1",
   "metadata": {},
   "source": [
    "## 10. Qual o nome do país que possui, na média, a menor nota média registrada?"
   ]
  },
  {
   "cell_type": "code",
   "execution_count": 35,
   "id": "9ef6dad4-3722-44f5-b513-23946be9cccf",
   "metadata": {
    "tags": []
   },
   "outputs": [
    {
     "name": "stdout",
     "output_type": "stream",
     "text": [
      "Nome do país que possui, na média, a maior nota média registrada: Brazil\n"
     ]
    }
   ],
   "source": [
    "result = df[['country_name','aggregate_rating']].groupby(['country_name']).mean().reset_index().sort_values('aggregate_rating', ascending = True)\n",
    "first_country_name = result['country_name'].iloc[0]                                                        \n",
    "print(\"Nome do país que possui, na média, a maior nota média registrada:\", first_country_name)"
   ]
  },
  {
   "cell_type": "markdown",
   "id": "7b2ed4c8-0d96-49ba-8a50-cbeafaba0ab9",
   "metadata": {},
   "source": [
    "## 11. Qual a média de preço de um prato para dois por país?"
   ]
  },
  {
   "cell_type": "code",
   "execution_count": 36,
   "id": "1808c428-408f-4f5a-b3c8-50bc061587bf",
   "metadata": {
    "tags": []
   },
   "outputs": [
    {
     "name": "stdout",
     "output_type": "stream",
     "text": [
      "                country_name                currency  average_cost_for_two\n",
      "5                  Indonesia  Indonesian Rupiah(IDR)         312682.926829\n",
      "0                  Australia               Dollar($)         138959.783333\n",
      "11                 Sri Lanka   Sri Lankan Rupee(LKR)           2607.471264\n",
      "7                Philippines        Botswana Pula(P)           1211.090909\n",
      "4                      India      Indian Rupees(Rs.)            702.303964\n",
      "10              South Africa                 Rand(R)            335.479058\n",
      "8                      Qatar         Qatari Rial(QR)            176.648936\n",
      "13      United Arab Emirates      Emirati Diram(AED)            158.218563\n",
      "9                  Singapure               Dollar($)            141.036585\n",
      "1                     Brazil      Brazilian Real(R$)            137.375479\n",
      "12                    Turkey        Turkish Lira(TL)            128.848485\n",
      "6                 New Zeland           NewZealand($)             61.442688\n",
      "14  United States of America               Dollar($)             54.921864\n",
      "3                    England               Pounds(£)             43.045767\n",
      "2                     Canada               Dollar($)             41.861111\n"
     ]
    }
   ],
   "source": [
    "result = df[['country_name','average_cost_for_two','currency']].groupby(['country_name','currency']).mean().reset_index().sort_values('average_cost_for_two', ascending = False)\n",
    "print(result)"
   ]
  },
  {
   "cell_type": "markdown",
   "id": "28075977-fcbb-4f39-8830-28c8315bc7d3",
   "metadata": {
    "tags": []
   },
   "source": [
    "# Cidade\n"
   ]
  },
  {
   "cell_type": "code",
   "execution_count": 37,
   "id": "8040ec42-ea7e-49a2-845e-ea5f24556f34",
   "metadata": {
    "tags": []
   },
   "outputs": [
    {
     "data": {
      "text/html": [
       "<div>\n",
       "<style scoped>\n",
       "    .dataframe tbody tr th:only-of-type {\n",
       "        vertical-align: middle;\n",
       "    }\n",
       "\n",
       "    .dataframe tbody tr th {\n",
       "        vertical-align: top;\n",
       "    }\n",
       "\n",
       "    .dataframe thead th {\n",
       "        text-align: right;\n",
       "    }\n",
       "</style>\n",
       "<table border=\"1\" class=\"dataframe\">\n",
       "  <thead>\n",
       "    <tr style=\"text-align: right;\">\n",
       "      <th></th>\n",
       "      <th>restaurant_id</th>\n",
       "      <th>restaurant_name</th>\n",
       "      <th>country_code</th>\n",
       "      <th>city</th>\n",
       "      <th>address</th>\n",
       "      <th>locality</th>\n",
       "      <th>locality_verbose</th>\n",
       "      <th>longitude</th>\n",
       "      <th>latitude</th>\n",
       "      <th>cuisines</th>\n",
       "      <th>...</th>\n",
       "      <th>is_delivering_now</th>\n",
       "      <th>switch_to_order_menu</th>\n",
       "      <th>price_range</th>\n",
       "      <th>aggregate_rating</th>\n",
       "      <th>rating_color</th>\n",
       "      <th>rating_text</th>\n",
       "      <th>votes</th>\n",
       "      <th>country_name</th>\n",
       "      <th>food_category</th>\n",
       "      <th>color_name</th>\n",
       "    </tr>\n",
       "  </thead>\n",
       "  <tbody>\n",
       "    <tr>\n",
       "      <th>0</th>\n",
       "      <td>6310675</td>\n",
       "      <td>Mama Lou's Italian Kitchen</td>\n",
       "      <td>162</td>\n",
       "      <td>Las Piñas City</td>\n",
       "      <td>Block 1, Lot 36, Tropical Avenue Corner Tropic...</td>\n",
       "      <td>BF International</td>\n",
       "      <td>BF International, Las Piñas City</td>\n",
       "      <td>121.009787</td>\n",
       "      <td>14.447615</td>\n",
       "      <td>Italian</td>\n",
       "      <td>...</td>\n",
       "      <td>0</td>\n",
       "      <td>0</td>\n",
       "      <td>3</td>\n",
       "      <td>4.6</td>\n",
       "      <td>3F7E00</td>\n",
       "      <td>Excellent</td>\n",
       "      <td>619</td>\n",
       "      <td>Philippines</td>\n",
       "      <td>expensive</td>\n",
       "      <td>darkgreen</td>\n",
       "    </tr>\n",
       "  </tbody>\n",
       "</table>\n",
       "<p>1 rows × 24 columns</p>\n",
       "</div>"
      ],
      "text/plain": [
       "   restaurant_id             restaurant_name  country_code            city   \n",
       "0        6310675  Mama Lou's Italian Kitchen           162  Las Piñas City  \\\n",
       "\n",
       "                                             address          locality   \n",
       "0  Block 1, Lot 36, Tropical Avenue Corner Tropic...  BF International  \\\n",
       "\n",
       "                   locality_verbose   longitude   latitude cuisines  ...   \n",
       "0  BF International, Las Piñas City  121.009787  14.447615  Italian  ...  \\\n",
       "\n",
       "   is_delivering_now switch_to_order_menu  price_range  aggregate_rating   \n",
       "0                  0                    0            3               4.6  \\\n",
       "\n",
       "   rating_color  rating_text  votes  country_name food_category color_name  \n",
       "0        3F7E00    Excellent    619   Philippines     expensive  darkgreen  \n",
       "\n",
       "[1 rows x 24 columns]"
      ]
     },
     "execution_count": 37,
     "metadata": {},
     "output_type": "execute_result"
    }
   ],
   "source": [
    "df.head(1)"
   ]
  },
  {
   "cell_type": "code",
   "execution_count": 41,
   "id": "486b0566-a76e-473c-bcc1-4ad31e217cd5",
   "metadata": {
    "tags": []
   },
   "outputs": [
    {
     "data": {
      "text/plain": [
       "Index(['restaurant_id', 'restaurant_name', 'country_code', 'city', 'address',\n",
       "       'locality', 'locality_verbose', 'longitude', 'latitude', 'cuisines',\n",
       "       'average_cost_for_two', 'currency', 'has_table_booking',\n",
       "       'has_online_delivery', 'is_delivering_now', 'switch_to_order_menu',\n",
       "       'price_range', 'aggregate_rating', 'rating_color', 'rating_text',\n",
       "       'votes', 'country_name', 'food_category', 'color_name'],\n",
       "      dtype='object')"
      ]
     },
     "execution_count": 41,
     "metadata": {},
     "output_type": "execute_result"
    }
   ],
   "source": [
    "df.columns"
   ]
  },
  {
   "cell_type": "markdown",
   "id": "819e0353-6ddc-4901-9260-d4c5b0115ed4",
   "metadata": {},
   "source": [
    "## 1. Qual o nome da cidade que possui mais restaurantes registrados?"
   ]
  },
  {
   "cell_type": "code",
   "execution_count": 38,
   "id": "59d31440-c2b2-425f-a114-ea7429188a76",
   "metadata": {},
   "outputs": [
    {
     "name": "stdout",
     "output_type": "stream",
     "text": [
      "A cidade que possui mais restaurantes registrados: Nagpur\n"
     ]
    }
   ],
   "source": [
    "result = df[['city','restaurant_id']].groupby(['city']).count().reset_index().sort_values('restaurant_id', ascending = False)\n",
    "first_city = result['city'].iloc[0]\n",
    "print('A cidade que possui mais restaurantes registrados:', first_city)"
   ]
  },
  {
   "cell_type": "markdown",
   "id": "b3d646b6-17d1-4516-8238-f7fe2928aa47",
   "metadata": {},
   "source": [
    "## 2. Qual o nome da cidade que possui mais restaurantes com nota média acima de 4?"
   ]
  },
  {
   "cell_type": "code",
   "execution_count": 42,
   "id": "322d9d8b-0329-4ed6-bf2b-fffb3f1a9283",
   "metadata": {},
   "outputs": [],
   "source": [
    "filtered_df = df[df['aggregate_rating'] > 4]"
   ]
  },
  {
   "cell_type": "code",
   "execution_count": 43,
   "id": "62ef186c-283c-4d2a-89e0-d82c7c586b8f",
   "metadata": {
    "tags": []
   },
   "outputs": [
    {
     "name": "stdout",
     "output_type": "stream",
     "text": [
      "A cidade que possui mais restaurantes com nota média acima de 4: Bangalore\n"
     ]
    }
   ],
   "source": [
    "result = filtered_df[['city','aggregate_rating']].groupby(['city']).count().reset_index().sort_values('aggregate_rating', ascending = False)\n",
    "first_city = result['city'].iloc[0]\n",
    "print('A cidade que possui mais restaurantes com nota média acima de 4:', first_city)"
   ]
  },
  {
   "cell_type": "markdown",
   "id": "ccc76810-c09b-4d57-9e91-ffab7d9cdb69",
   "metadata": {},
   "source": [
    "## 3. Qual o nome da cidade que possui mais restaurantes com nota média abaixo de 2.5?"
   ]
  },
  {
   "cell_type": "code",
   "execution_count": 44,
   "id": "64df7686-01ef-488f-a8ba-40ebfcac450b",
   "metadata": {},
   "outputs": [
    {
     "name": "stdout",
     "output_type": "stream",
     "text": [
      "A cidade que possui mais restaurantes com nota média abaixo de 2.5: Gangtok\n"
     ]
    }
   ],
   "source": [
    "filtered_df = df[df['aggregate_rating'] < 2.5]\n",
    "result = filtered_df[['city','aggregate_rating']].groupby(['city']).count().reset_index().sort_values('aggregate_rating', ascending = False)\n",
    "first_city = result['city'].iloc[0]\n",
    "print('A cidade que possui mais restaurantes com nota média abaixo de 2.5:', first_city)"
   ]
  },
  {
   "cell_type": "markdown",
   "id": "1af429b9-752a-4f2a-b643-99542226c9ef",
   "metadata": {},
   "source": [
    "## 4. Qual o nome da cidade que possui o maior valor médio de um prato para dois?"
   ]
  },
  {
   "cell_type": "code",
   "execution_count": 45,
   "id": "4a6c0cde-6da3-4ca8-a623-ccca7b9917b2",
   "metadata": {},
   "outputs": [
    {
     "name": "stdout",
     "output_type": "stream",
     "text": [
      "A cidade que possui o maior valor médio de um prato para dois: Nagpur\n"
     ]
    }
   ],
   "source": [
    "result = df[['city','average_cost_for_two']].groupby(['city']).count().reset_index().sort_values('average_cost_for_two', ascending = False)\n",
    "first_city = result['city'].iloc[0]\n",
    "print('A cidade que possui o maior valor médio de um prato para dois:', first_city)"
   ]
  },
  {
   "cell_type": "markdown",
   "id": "b06181cc-1475-4341-bfe4-312888aa8cb8",
   "metadata": {},
   "source": [
    "## 5. Qual o nome da cidade que possui a maior quantidade de tipos de culinária distintas?"
   ]
  },
  {
   "cell_type": "code",
   "execution_count": 46,
   "id": "bb36b21c-7cfe-4920-85a4-cf98b4e6a4bc",
   "metadata": {},
   "outputs": [
    {
     "name": "stdout",
     "output_type": "stream",
     "text": [
      "A cidade que possui a maior quantidade de tipos de culinária distintas: Nagpur\n"
     ]
    }
   ],
   "source": [
    "result = df[['city','cuisines']].groupby(['city']).count().reset_index().sort_values('cuisines', ascending = False)\n",
    "first_city = result['city'].iloc[0]\n",
    "print('A cidade que possui a maior quantidade de tipos de culinária distintas:', first_city)"
   ]
  },
  {
   "cell_type": "markdown",
   "id": "475eb3b8-800b-4770-aec6-18e22ab4461d",
   "metadata": {},
   "source": [
    "## 6. Qual o nome da cidade que possui a maior quantidade de restaurantes que fazem reservas?"
   ]
  },
  {
   "cell_type": "code",
   "execution_count": 47,
   "id": "8fe430f4-10d8-4428-9ee9-7932673fcef8",
   "metadata": {},
   "outputs": [
    {
     "name": "stdout",
     "output_type": "stream",
     "text": [
      "A cidade que possui a maior quantidade de restaurantes que fazem reservas: Bangalore\n"
     ]
    }
   ],
   "source": [
    "filtered_df = df[df['has_table_booking'] == 1]\n",
    "result = filtered_df[['city','restaurant_id']].groupby(['city']).count().reset_index().sort_values('restaurant_id', ascending = False)\n",
    "first_city = result['city'].iloc[0]\n",
    "print('A cidade que possui a maior quantidade de restaurantes que fazem reservas:', first_city)"
   ]
  },
  {
   "cell_type": "markdown",
   "id": "17acda23-6b1f-4866-ba5c-7d7095c251cb",
   "metadata": {},
   "source": [
    "## 7. Qual o nome da cidade que possui a maior quantidade de restaurantes que fazem entregas?"
   ]
  },
  {
   "cell_type": "code",
   "execution_count": 50,
   "id": "8d57e425-fed9-4f12-ab56-391a1d6616d3",
   "metadata": {},
   "outputs": [
    {
     "name": "stdout",
     "output_type": "stream",
     "text": [
      "A cidade que possui a maior quantidade de restaurantes que fazem entregas: Aurangabad\n"
     ]
    }
   ],
   "source": [
    "filtered_df = df[df['is_delivering_now'] == 1]\n",
    "result = filtered_df[['city','restaurant_id']].groupby(['city']).count().reset_index().sort_values('restaurant_id', ascending = False)\n",
    "first_city = result['city'].iloc[0]\n",
    "print('A cidade que possui a maior quantidade de restaurantes que fazem entregas:', first_city)"
   ]
  },
  {
   "cell_type": "markdown",
   "id": "013de7bd-4088-4980-89cf-7a53c49106b8",
   "metadata": {},
   "source": [
    "## 8. Qual o nome da cidade que possui a maior quantidade de restaurantes que aceitam pedidos online?"
   ]
  },
  {
   "cell_type": "code",
   "execution_count": 52,
   "id": "b70ce592-7a45-4df3-a177-56ce64e23b18",
   "metadata": {},
   "outputs": [
    {
     "name": "stdout",
     "output_type": "stream",
     "text": [
      "A cidade que possui a maior quantidade de restaurantes que aceitam pedidos online: Abu Dhabi\n"
     ]
    }
   ],
   "source": [
    "filtered_df = df[df['has_online_delivery'] == 1]\n",
    "result = filtered_df[['city','restaurant_id']].groupby(['city']).count().reset_index().sort_values('restaurant_id', ascending = False)\n",
    "first_city = result['city'].iloc[0]\n",
    "print('A cidade que possui a maior quantidade de restaurantes que aceitam pedidos online:', first_city)"
   ]
  },
  {
   "cell_type": "markdown",
   "id": "d706c0b2-5c13-4bd7-a044-d9550a878be7",
   "metadata": {
    "jp-MarkdownHeadingCollapsed": true,
    "tags": []
   },
   "source": [
    "# Restaurantes"
   ]
  },
  {
   "cell_type": "markdown",
   "id": "9a175362-e4d6-4dfa-a626-de794a79ed18",
   "metadata": {},
   "source": [
    "## 1. Qual o nome do restaurante que possui a maior quantidade de avaliações?"
   ]
  },
  {
   "cell_type": "code",
   "execution_count": null,
   "id": "864bc97f-3b3f-4479-a0ac-40e6c394f341",
   "metadata": {},
   "outputs": [],
   "source": []
  },
  {
   "cell_type": "markdown",
   "id": "22dd09d0-5df3-4dc9-b0db-746e7f26f96c",
   "metadata": {},
   "source": [
    "## 2. Qual o nome do restaurante com a maior nota média?\n"
   ]
  },
  {
   "cell_type": "code",
   "execution_count": null,
   "id": "81842330-85ce-4f72-a691-880989db46cc",
   "metadata": {},
   "outputs": [],
   "source": []
  },
  {
   "cell_type": "markdown",
   "id": "e100e2e3-665b-4af9-b25e-aefcb8a32fb5",
   "metadata": {},
   "source": [
    "## 3. Qual o nome do restaurante que possui o maior valor de uma prato para duas pessoas?\n"
   ]
  },
  {
   "cell_type": "code",
   "execution_count": null,
   "id": "b4bc33fc-84b8-4694-9ed0-6eb07ae395da",
   "metadata": {},
   "outputs": [],
   "source": []
  },
  {
   "cell_type": "markdown",
   "id": "6f934b44-3c1b-475e-957e-b14d840f3f77",
   "metadata": {},
   "source": [
    "## 4. Qual o nome do restaurante de tipo de culinária brasileira que possui a menormédia de avaliação?"
   ]
  },
  {
   "cell_type": "code",
   "execution_count": null,
   "id": "cea0bc8e-bfff-4ce1-abf2-2e81fe00645f",
   "metadata": {},
   "outputs": [],
   "source": []
  },
  {
   "cell_type": "markdown",
   "id": "35a1724a-4f18-45cb-b64d-0db6b2726e65",
   "metadata": {},
   "source": [
    "## 5. Qual o nome do restaurante de tipo de culinária brasileira, e que é do Brasil, que possui a maior média de avaliação?\n"
   ]
  },
  {
   "cell_type": "code",
   "execution_count": null,
   "id": "c4759744-6f70-4eaf-bd4b-b3e59c7d07de",
   "metadata": {},
   "outputs": [],
   "source": []
  },
  {
   "cell_type": "markdown",
   "id": "b67b91e3-7b48-4de0-b485-ba0179050b5e",
   "metadata": {},
   "source": [
    "## 6. Os restaurantes que aceitam pedido online são também, na média, os restaurantes que mais possuem avaliações registradas?\n"
   ]
  },
  {
   "cell_type": "code",
   "execution_count": null,
   "id": "63e952da-06d7-44d0-bc66-c618e056de56",
   "metadata": {},
   "outputs": [],
   "source": []
  },
  {
   "cell_type": "markdown",
   "id": "974412bb-e087-4e4d-8c8e-25008f607117",
   "metadata": {},
   "source": [
    "## 7. Os restaurantes que fazem reservas são também, na média, os restaurantes que possuem o maior valor médio de um prato para duas pessoas?\n"
   ]
  },
  {
   "cell_type": "code",
   "execution_count": null,
   "id": "9d922019-3a44-4628-af50-1cafd8296df2",
   "metadata": {},
   "outputs": [],
   "source": []
  },
  {
   "cell_type": "markdown",
   "id": "1b6bda3f-53a7-4ed5-b96e-b14febe8fe76",
   "metadata": {},
   "source": [
    "## 8. Os restaurantes do tipo de culinária japonesa dos Estados Unidos da América possuem um valor médio de prato para duas pessoas maior que as churrascarias americanas (BBQ)?"
   ]
  },
  {
   "cell_type": "code",
   "execution_count": null,
   "id": "5a288178-0fa2-4b7e-a3a0-79ad6ccefe79",
   "metadata": {},
   "outputs": [],
   "source": []
  },
  {
   "cell_type": "markdown",
   "id": "f8d08c92-ad3f-453d-a802-1cda11515b75",
   "metadata": {
    "tags": []
   },
   "source": [
    "# Tipos de Culinária"
   ]
  },
  {
   "cell_type": "markdown",
   "id": "b51dfb38-5f1f-47e6-aab6-7873fc039048",
   "metadata": {
    "tags": []
   },
   "source": [
    "## 1. Dos restaurantes que possuem o tipo de culinária italiana, qual o nome do restaurante com a maior média de avaliação?\n"
   ]
  },
  {
   "cell_type": "code",
   "execution_count": null,
   "id": "f3900daf-0e4a-4d22-b282-399be0507813",
   "metadata": {},
   "outputs": [],
   "source": []
  },
  {
   "cell_type": "markdown",
   "id": "0e96557b-5474-4689-a74b-927202e742f5",
   "metadata": {},
   "source": [
    "## 2. Dos restaurantes que possuem o tipo de culinária italiana, qual o nome do restaurante com a menor média de avaliação?"
   ]
  },
  {
   "cell_type": "code",
   "execution_count": null,
   "id": "1c86406b-8a91-4a8f-bea1-fee7a9d7d1ed",
   "metadata": {},
   "outputs": [],
   "source": []
  },
  {
   "cell_type": "markdown",
   "id": "13ce045f-aed7-42b3-ba62-20be6bc86b5f",
   "metadata": {},
   "source": [
    "## 3. Dos restaurantes que possuem o tipo de culinária americana, qual o nome do restaurante com a maior média de avaliação?"
   ]
  },
  {
   "cell_type": "code",
   "execution_count": null,
   "id": "3ed5490f-4495-4ef6-9730-4bffd37108a9",
   "metadata": {},
   "outputs": [],
   "source": []
  },
  {
   "cell_type": "markdown",
   "id": "b9170ab6-edb9-430b-aad3-832ea1dac5cf",
   "metadata": {},
   "source": [
    "## 4. Dos restaurantes que possuem o tipo de culinária americana, qual o nome do restaurante com a menor média de avaliação?\n"
   ]
  },
  {
   "cell_type": "code",
   "execution_count": null,
   "id": "b032a195-4413-4aa7-9b42-12e96fbe9541",
   "metadata": {},
   "outputs": [],
   "source": []
  },
  {
   "cell_type": "markdown",
   "id": "eddd0e64-5455-4ed1-b812-51ac0efd2969",
   "metadata": {},
   "source": [
    "## 5. Dos restaurantes que possuem o tipo de culinária árabe, qual o nome do restaurante com a maior média de avaliação?\n"
   ]
  },
  {
   "cell_type": "code",
   "execution_count": null,
   "id": "66b574be-5c1b-4557-90a5-4ac2b5463461",
   "metadata": {},
   "outputs": [],
   "source": []
  },
  {
   "cell_type": "markdown",
   "id": "3d001187-a3c2-4ea6-94ac-5754b55b672e",
   "metadata": {},
   "source": [
    "## 6. Dos restaurantes que possuem o tipo de culinária árabe, qual o nome do restaurante com a menor média de avaliação?"
   ]
  },
  {
   "cell_type": "code",
   "execution_count": null,
   "id": "6874401a-6a6a-4f73-9ac0-f09bc6077b85",
   "metadata": {},
   "outputs": [],
   "source": []
  },
  {
   "cell_type": "markdown",
   "id": "fc47b908-ed42-4aa4-91c6-5b05bf4cfe11",
   "metadata": {},
   "source": [
    "## 7. Dos restaurantes que possuem o tipo de culinária japonesa, qual o nome do restaurante com a maior média de avaliação?"
   ]
  },
  {
   "cell_type": "code",
   "execution_count": null,
   "id": "9ff04b52-d04b-4a4a-8e4e-9e6276600b10",
   "metadata": {},
   "outputs": [],
   "source": []
  },
  {
   "cell_type": "markdown",
   "id": "56474770-9329-4ac6-a8ca-7e0d584c462a",
   "metadata": {},
   "source": [
    "## 8. Dos restaurantes que possuem o tipo de culinária japonesa, qual o nome do restaurante com a menor média de avaliação?"
   ]
  },
  {
   "cell_type": "code",
   "execution_count": null,
   "id": "1bdae6e9-0053-4348-a8c4-4573a7fdb269",
   "metadata": {},
   "outputs": [],
   "source": []
  },
  {
   "cell_type": "markdown",
   "id": "ea53efaf-e222-4377-80b4-1028de709506",
   "metadata": {},
   "source": [
    "## 9. Dos restaurantes que possuem o tipo de culinária caseira, qual o nome do restaurante com a maior média de avaliação?"
   ]
  },
  {
   "cell_type": "code",
   "execution_count": null,
   "id": "1ab7898c-d153-4e69-bb66-275e7b64cfb2",
   "metadata": {},
   "outputs": [],
   "source": []
  },
  {
   "cell_type": "markdown",
   "id": "303543a0-774e-47fe-9684-15d366e45931",
   "metadata": {},
   "source": [
    "## 10. Dos restaurantes que possuem o tipo de culinária caseira, qual o nome do restaurante com a menor média de avaliação?"
   ]
  },
  {
   "cell_type": "code",
   "execution_count": null,
   "id": "9137a543-c248-41b0-9ff9-72e71069d345",
   "metadata": {},
   "outputs": [],
   "source": []
  },
  {
   "cell_type": "markdown",
   "id": "41458521-2732-4429-89a9-94253264f6fb",
   "metadata": {},
   "source": [
    "## 11. Qual o tipo de culinária que possui o maior valor médio de um prato para duas pessoas?"
   ]
  },
  {
   "cell_type": "code",
   "execution_count": null,
   "id": "b3c6faa6-4870-45cd-90b6-1d593ca56c49",
   "metadata": {},
   "outputs": [],
   "source": []
  },
  {
   "cell_type": "markdown",
   "id": "962be7ce-6b1a-491d-9aa0-da15c6e048f2",
   "metadata": {},
   "source": [
    "## 12. Qual o tipo de culinária que possui a maior nota média?\n"
   ]
  },
  {
   "cell_type": "code",
   "execution_count": null,
   "id": "a8470674-5f30-4162-a380-9a886e6dd691",
   "metadata": {},
   "outputs": [],
   "source": []
  },
  {
   "cell_type": "markdown",
   "id": "d765e891-f4c0-4ec7-bece-54886faf7506",
   "metadata": {},
   "source": [
    "## 13. Qual o tipo de culinária que possui mais restaurantes que aceitam pedidos online e fazem entregas?"
   ]
  },
  {
   "cell_type": "code",
   "execution_count": null,
   "id": "13e00572-9131-4bcd-918b-4d781923897b",
   "metadata": {},
   "outputs": [],
   "source": []
  },
  {
   "cell_type": "code",
   "execution_count": 57,
   "id": "f59c9b64-20cc-44f8-96d4-9c43adfa5bf3",
   "metadata": {
    "tags": []
   },
   "outputs": [
    {
     "name": "stdout",
     "output_type": "stream",
     "text": [
      "['Philippines' 'Brazil' 'Australia' 'United States of America' 'Canada'\n",
      " 'Singapure' 'United Arab Emirates' 'India' 'Indonesia' 'New Zeland'\n",
      " 'England' 'Qatar' 'South Africa' 'Sri Lanka' 'Turkey']\n"
     ]
    }
   ],
   "source": [
    "print(df['country_name'].unique())"
   ]
  },
  {
   "cell_type": "code",
   "execution_count": 58,
   "id": "7f391eac-10c4-45ac-acff-de0e8c144bcb",
   "metadata": {
    "tags": []
   },
   "outputs": [
    {
     "data": {
      "text/plain": [
       "Index(['restaurant_id', 'restaurant_name', 'country_code', 'city', 'address',\n",
       "       'locality', 'locality_verbose', 'longitude', 'latitude', 'cuisines',\n",
       "       'average_cost_for_two', 'currency', 'has_table_booking',\n",
       "       'has_online_delivery', 'is_delivering_now', 'switch_to_order_menu',\n",
       "       'price_range', 'aggregate_rating', 'rating_color', 'rating_text',\n",
       "       'votes', 'country_name', 'food_category', 'color_name'],\n",
       "      dtype='object')"
      ]
     },
     "execution_count": 58,
     "metadata": {},
     "output_type": "execute_result"
    }
   ],
   "source": [
    "df.columns"
   ]
  },
  {
   "cell_type": "code",
   "execution_count": 59,
   "id": "01c2d423-f38d-4cba-b793-b39c8788bc05",
   "metadata": {
    "tags": []
   },
   "outputs": [
    {
     "data": {
      "text/html": [
       "<div>\n",
       "<style scoped>\n",
       "    .dataframe tbody tr th:only-of-type {\n",
       "        vertical-align: middle;\n",
       "    }\n",
       "\n",
       "    .dataframe tbody tr th {\n",
       "        vertical-align: top;\n",
       "    }\n",
       "\n",
       "    .dataframe thead th {\n",
       "        text-align: right;\n",
       "    }\n",
       "</style>\n",
       "<table border=\"1\" class=\"dataframe\">\n",
       "  <thead>\n",
       "    <tr style=\"text-align: right;\">\n",
       "      <th></th>\n",
       "      <th>restaurant_id</th>\n",
       "      <th>restaurant_name</th>\n",
       "      <th>country_code</th>\n",
       "      <th>city</th>\n",
       "      <th>address</th>\n",
       "      <th>locality</th>\n",
       "      <th>locality_verbose</th>\n",
       "      <th>longitude</th>\n",
       "      <th>latitude</th>\n",
       "      <th>cuisines</th>\n",
       "      <th>...</th>\n",
       "      <th>is_delivering_now</th>\n",
       "      <th>switch_to_order_menu</th>\n",
       "      <th>price_range</th>\n",
       "      <th>aggregate_rating</th>\n",
       "      <th>rating_color</th>\n",
       "      <th>rating_text</th>\n",
       "      <th>votes</th>\n",
       "      <th>country_name</th>\n",
       "      <th>food_category</th>\n",
       "      <th>color_name</th>\n",
       "    </tr>\n",
       "  </thead>\n",
       "  <tbody>\n",
       "    <tr>\n",
       "      <th>0</th>\n",
       "      <td>6310675</td>\n",
       "      <td>Mama Lou's Italian Kitchen</td>\n",
       "      <td>162</td>\n",
       "      <td>Las Piñas City</td>\n",
       "      <td>Block 1, Lot 36, Tropical Avenue Corner Tropic...</td>\n",
       "      <td>BF International</td>\n",
       "      <td>BF International, Las Piñas City</td>\n",
       "      <td>121.009787</td>\n",
       "      <td>14.447615</td>\n",
       "      <td>Italian</td>\n",
       "      <td>...</td>\n",
       "      <td>0</td>\n",
       "      <td>0</td>\n",
       "      <td>3</td>\n",
       "      <td>4.6</td>\n",
       "      <td>3F7E00</td>\n",
       "      <td>Excellent</td>\n",
       "      <td>619</td>\n",
       "      <td>Philippines</td>\n",
       "      <td>expensive</td>\n",
       "      <td>darkgreen</td>\n",
       "    </tr>\n",
       "    <tr>\n",
       "      <th>1</th>\n",
       "      <td>6310675</td>\n",
       "      <td>Mama Lou's Italian Kitchen</td>\n",
       "      <td>162</td>\n",
       "      <td>Las Piñas City</td>\n",
       "      <td>Block 1, Lot 36, Tropical Avenue Corner Tropic...</td>\n",
       "      <td>BF International</td>\n",
       "      <td>BF International, Las Piñas City</td>\n",
       "      <td>121.009787</td>\n",
       "      <td>14.447615</td>\n",
       "      <td>Italian</td>\n",
       "      <td>...</td>\n",
       "      <td>0</td>\n",
       "      <td>0</td>\n",
       "      <td>3</td>\n",
       "      <td>4.6</td>\n",
       "      <td>3F7E00</td>\n",
       "      <td>Excellent</td>\n",
       "      <td>619</td>\n",
       "      <td>Philippines</td>\n",
       "      <td>expensive</td>\n",
       "      <td>darkgreen</td>\n",
       "    </tr>\n",
       "    <tr>\n",
       "      <th>2</th>\n",
       "      <td>6314542</td>\n",
       "      <td>Blackbird</td>\n",
       "      <td>162</td>\n",
       "      <td>Makati City</td>\n",
       "      <td>Nielson Tower, Ayala Triangle Gardens, Salcedo...</td>\n",
       "      <td>Ayala Triangle Gardens, Salcedo Village, Makat...</td>\n",
       "      <td>Ayala Triangle Gardens, Salcedo Village, Makat...</td>\n",
       "      <td>121.024562</td>\n",
       "      <td>14.556042</td>\n",
       "      <td>European</td>\n",
       "      <td>...</td>\n",
       "      <td>0</td>\n",
       "      <td>0</td>\n",
       "      <td>4</td>\n",
       "      <td>4.7</td>\n",
       "      <td>3F7E00</td>\n",
       "      <td>Excellent</td>\n",
       "      <td>469</td>\n",
       "      <td>Philippines</td>\n",
       "      <td>gourmet</td>\n",
       "      <td>darkgreen</td>\n",
       "    </tr>\n",
       "    <tr>\n",
       "      <th>3</th>\n",
       "      <td>6301293</td>\n",
       "      <td>Banapple</td>\n",
       "      <td>162</td>\n",
       "      <td>Makati City</td>\n",
       "      <td>Ayala Triangle Gardens, Salcedo Village, Makat...</td>\n",
       "      <td>Ayala Triangle Gardens, Salcedo Village, Makat...</td>\n",
       "      <td>Ayala Triangle Gardens, Salcedo Village, Makat...</td>\n",
       "      <td>121.023171</td>\n",
       "      <td>14.556196</td>\n",
       "      <td>Filipino</td>\n",
       "      <td>...</td>\n",
       "      <td>0</td>\n",
       "      <td>0</td>\n",
       "      <td>3</td>\n",
       "      <td>4.4</td>\n",
       "      <td>5BA829</td>\n",
       "      <td>Very Good</td>\n",
       "      <td>867</td>\n",
       "      <td>Philippines</td>\n",
       "      <td>expensive</td>\n",
       "      <td>green</td>\n",
       "    </tr>\n",
       "    <tr>\n",
       "      <th>4</th>\n",
       "      <td>6315689</td>\n",
       "      <td>Bad Bird</td>\n",
       "      <td>162</td>\n",
       "      <td>Makati City</td>\n",
       "      <td>Hole In The Wall, Floor 4, Century City Mall, ...</td>\n",
       "      <td>Century City Mall, Poblacion, Makati City</td>\n",
       "      <td>Century City Mall, Poblacion, Makati City, Mak...</td>\n",
       "      <td>121.027708</td>\n",
       "      <td>14.565899</td>\n",
       "      <td>American</td>\n",
       "      <td>...</td>\n",
       "      <td>0</td>\n",
       "      <td>0</td>\n",
       "      <td>3</td>\n",
       "      <td>4.4</td>\n",
       "      <td>5BA829</td>\n",
       "      <td>Very Good</td>\n",
       "      <td>858</td>\n",
       "      <td>Philippines</td>\n",
       "      <td>expensive</td>\n",
       "      <td>green</td>\n",
       "    </tr>\n",
       "  </tbody>\n",
       "</table>\n",
       "<p>5 rows × 24 columns</p>\n",
       "</div>"
      ],
      "text/plain": [
       "   restaurant_id             restaurant_name  country_code            city   \n",
       "0        6310675  Mama Lou's Italian Kitchen           162  Las Piñas City  \\\n",
       "1        6310675  Mama Lou's Italian Kitchen           162  Las Piñas City   \n",
       "2        6314542                   Blackbird           162     Makati City   \n",
       "3        6301293                    Banapple           162     Makati City   \n",
       "4        6315689                    Bad Bird           162     Makati City   \n",
       "\n",
       "                                             address   \n",
       "0  Block 1, Lot 36, Tropical Avenue Corner Tropic...  \\\n",
       "1  Block 1, Lot 36, Tropical Avenue Corner Tropic...   \n",
       "2  Nielson Tower, Ayala Triangle Gardens, Salcedo...   \n",
       "3  Ayala Triangle Gardens, Salcedo Village, Makat...   \n",
       "4  Hole In The Wall, Floor 4, Century City Mall, ...   \n",
       "\n",
       "                                            locality   \n",
       "0                                   BF International  \\\n",
       "1                                   BF International   \n",
       "2  Ayala Triangle Gardens, Salcedo Village, Makat...   \n",
       "3  Ayala Triangle Gardens, Salcedo Village, Makat...   \n",
       "4          Century City Mall, Poblacion, Makati City   \n",
       "\n",
       "                                    locality_verbose   longitude   latitude   \n",
       "0                   BF International, Las Piñas City  121.009787  14.447615  \\\n",
       "1                   BF International, Las Piñas City  121.009787  14.447615   \n",
       "2  Ayala Triangle Gardens, Salcedo Village, Makat...  121.024562  14.556042   \n",
       "3  Ayala Triangle Gardens, Salcedo Village, Makat...  121.023171  14.556196   \n",
       "4  Century City Mall, Poblacion, Makati City, Mak...  121.027708  14.565899   \n",
       "\n",
       "   cuisines  ...  is_delivering_now switch_to_order_menu  price_range   \n",
       "0   Italian  ...                  0                    0            3  \\\n",
       "1   Italian  ...                  0                    0            3   \n",
       "2  European  ...                  0                    0            4   \n",
       "3  Filipino  ...                  0                    0            3   \n",
       "4  American  ...                  0                    0            3   \n",
       "\n",
       "   aggregate_rating  rating_color  rating_text  votes  country_name   \n",
       "0               4.6        3F7E00    Excellent    619   Philippines  \\\n",
       "1               4.6        3F7E00    Excellent    619   Philippines   \n",
       "2               4.7        3F7E00    Excellent    469   Philippines   \n",
       "3               4.4        5BA829    Very Good    867   Philippines   \n",
       "4               4.4        5BA829    Very Good    858   Philippines   \n",
       "\n",
       "  food_category color_name  \n",
       "0     expensive  darkgreen  \n",
       "1     expensive  darkgreen  \n",
       "2       gourmet  darkgreen  \n",
       "3     expensive      green  \n",
       "4     expensive      green  \n",
       "\n",
       "[5 rows x 24 columns]"
      ]
     },
     "execution_count": 59,
     "metadata": {},
     "output_type": "execute_result"
    }
   ],
   "source": [
    "df.head()"
   ]
  },
  {
   "cell_type": "code",
   "execution_count": 73,
   "id": "dbe35473-dd78-4147-8f61-e2b44a127957",
   "metadata": {
    "tags": []
   },
   "outputs": [
    {
     "name": "stdout",
     "output_type": "stream",
     "text": [
      "         city              country_name  aggregate_rating\n",
      "11  Bangalore                     India                86\n",
      "23    Chennai                     India                82\n",
      "43    Houston  United States of America                82\n",
      "56     London                   England                81\n",
      "53    Kolkata                     India                80\n",
      "70     Mumbai                     India                77\n",
      "91       Pune                     India                77\n"
     ]
    }
   ],
   "source": [
    "filtered_df = df[df['aggregate_rating'] > 4]\n",
    "result = (filtered_df[['city','country_name','aggregate_rating']]\n",
    "                      .groupby(['city','country_name'])\n",
    "                      .count()\n",
    "                      .reset_index()\n",
    "                      .sort_values(['aggregate_rating','city'], ascending = [False,True]))\n",
    "\n",
    "            \n",
    "df_aux = result.head(7)\n",
    "print(df_aux)"
   ]
  },
  {
   "cell_type": "code",
   "execution_count": null,
   "id": "78c9bbb0-aa21-4d9f-9b77-801f5ef737b6",
   "metadata": {},
   "outputs": [],
   "source": []
  },
  {
   "cell_type": "markdown",
   "id": "3768f83c-7448-4746-a127-f6cf8e109409",
   "metadata": {},
   "source": [
    "## "
   ]
  },
  {
   "cell_type": "markdown",
   "id": "011b0d28-3507-4e66-b026-26b71317e37e",
   "metadata": {},
   "source": [
    "## "
   ]
  },
  {
   "cell_type": "markdown",
   "id": "95355765-6447-4c1d-a66a-ae0f6cfb4d8d",
   "metadata": {},
   "source": [
    "## "
   ]
  },
  {
   "cell_type": "markdown",
   "id": "889dc8aa-fea6-479d-9b27-929283978cfe",
   "metadata": {},
   "source": [
    "## "
   ]
  },
  {
   "cell_type": "markdown",
   "id": "b1a4930f-1a0b-4885-a069-db04dcc91701",
   "metadata": {},
   "source": [
    "## "
   ]
  }
 ],
 "metadata": {
  "kernelspec": {
   "display_name": "Python 3 (ipykernel)",
   "language": "python",
   "name": "python3"
  },
  "language_info": {
   "codemirror_mode": {
    "name": "ipython",
    "version": 3
   },
   "file_extension": ".py",
   "mimetype": "text/x-python",
   "name": "python",
   "nbconvert_exporter": "python",
   "pygments_lexer": "ipython3",
   "version": "3.8.16"
  }
 },
 "nbformat": 4,
 "nbformat_minor": 5
}
